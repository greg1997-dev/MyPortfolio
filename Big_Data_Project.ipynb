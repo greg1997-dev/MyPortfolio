{
  "cells": [
    {
      "cell_type": "markdown",
      "metadata": {
        "id": "GTuLtXWAzo07"
      },
      "source": [
        "# Proyecto final Big Data\n",
        "Por:\n",
        "* Andres Gregori \n",
        "\n"
      ]
    },
    {
      "cell_type": "code",
      "execution_count": null,
      "metadata": {
        "id": "iIiFla-9zo0_",
        "outputId": "d9742e82-8a49-4714-bee3-bd8864ac4c6a"
      },
      "outputs": [
        {
          "name": "stderr",
          "output_type": "stream",
          "text": [
            "[nltk_data] Downloading package wordnet to\n",
            "[nltk_data]     /home/andrewgregory/nltk_data...\n",
            "[nltk_data]   Package wordnet is already up-to-date!\n"
          ]
        },
        {
          "data": {
            "text/plain": [
              "True"
            ]
          },
          "execution_count": 1,
          "metadata": {},
          "output_type": "execute_result"
        }
      ],
      "source": [
        "#Importamos las librerias a usar asi como los complementos de algunas\n",
        "import numpy as np\n",
        "import pandas as pd\n",
        "import re\n",
        "from textblob import TextBlob\n",
        "import pandasql as dfsql\n",
        "import gensim\n",
        "import matplotlib.pyplot as plt\n",
        "import seaborn as sns\n",
        "from gensim.utils import simple_preprocess\n",
        "from gensim.parsing.preprocessing import STOPWORDS\n",
        "from nltk.stem import WordNetLemmatizer, SnowballStemmer\n",
        "from nltk.stem.porter import *\n",
        "import nltk\n",
        "nltk.download('wordnet')"
      ]
    },
    {
      "cell_type": "code",
      "execution_count": null,
      "metadata": {
        "id": "Wh3Gb0d-zo1B"
      },
      "outputs": [],
      "source": [
        "#Descargamos el dataset ignorando las columnas inservibles\n",
        "col_list=['A2','A3','A4','A6','A7','A8','A9']\n",
        "data=pd.read_csv('Comments.csv',engine='python',encoding='utf-8',usecols=col_list)"
      ]
    },
    {
      "cell_type": "code",
      "execution_count": null,
      "metadata": {
        "id": "BgZivC6jzo1C"
      },
      "outputs": [],
      "source": [
        "#Convertimos la columna A7 a timestamp\n",
        "data.A7=pd.to_datetime(data.A7,unit='s')\n",
        "#Como el timestamp esta codificado en Unix"
      ]
    },
    {
      "cell_type": "code",
      "execution_count": null,
      "metadata": {
        "id": "dA9xevUjzo1C",
        "outputId": "333955ee-06bc-459f-b8e9-5605881c0496"
      },
      "outputs": [
        {
          "name": "stdout",
          "output_type": "stream",
          "text": [
            "<class 'pandas.core.frame.DataFrame'>\n",
            "RangeIndex: 568454 entries, 0 to 568453\n",
            "Data columns (total 7 columns):\n",
            " #   Column  Non-Null Count   Dtype         \n",
            "---  ------  --------------   -----         \n",
            " 0   A2      568454 non-null  object        \n",
            " 1   A3      568454 non-null  object        \n",
            " 2   A4      568438 non-null  object        \n",
            " 3   A6      568454 non-null  int64         \n",
            " 4   A7      568454 non-null  datetime64[ns]\n",
            " 5   A8      568427 non-null  object        \n",
            " 6   A9      568454 non-null  category      \n",
            "dtypes: category(1), datetime64[ns](1), int64(1), object(4)\n",
            "memory usage: 39.3+ MB\n"
          ]
        }
      ],
      "source": [
        "data['A9']=data['A9'].astype('category')\n",
        "data.info()"
      ]
    },
    {
      "cell_type": "code",
      "execution_count": null,
      "metadata": {
        "scrolled": true,
        "id": "aUTotgMhzo1D",
        "outputId": "1c02a17c-dbf5-4242-8fd6-dc4da8a0360d"
      },
      "outputs": [
        {
          "data": {
            "text/plain": [
              "256059"
            ]
          },
          "execution_count": 5,
          "metadata": {},
          "output_type": "execute_result"
        }
      ],
      "source": [
        "#Pregunta 1 Conteo de usuarios con opiniones\n",
        "data.A3.nunique() #Tenemos 256059 usuarios con opiniones"
      ]
    },
    {
      "cell_type": "code",
      "execution_count": null,
      "metadata": {
        "id": "IOQZoNMkzo1D",
        "outputId": "fe2fc292-de16-4635-96b5-9b3c09e7bd8f"
      },
      "outputs": [
        {
          "data": {
            "image/png": "[encoded data removed]",
            "text/plain": [
              "<Figure size 720x720 with 1 Axes>"
            ]
          },
          "metadata": {
            "needs_background": "light"
          },
          "output_type": "display_data"
        }
      ],
      "source": [
        "#Pregunta 2 Horario/dia en el que se deja el comentario\n",
        "data['day_o_week']=data.A7.dt.day_name()\n",
        "order = [\"Sunday\", \"Monday\", \"Tuesday\", \"Wednesday\", \"Thursday\", \"Friday\", \"Saturday\"]#Para poner en orden la grafica\n",
        "fig, ax =plt.subplots(figsize=(10,10))\n",
        "ax=sns.countplot(data=data,x='day_o_week',order=order)\n",
        "ax.set_title('Dias de la semana con mayor input de opiniones', fontsize=16)\n",
        "ax.set_xlabel('Dias de la semana')\n",
        "for p in ax.patches:\n",
        "    ax.annotate(f'\\n{p.get_height()}', (p.get_x()+0.2, p.get_height()), ha='center', va='top', color='white', size=10)"
      ]
    },
    {
      "cell_type": "code",
      "execution_count": null,
      "metadata": {
        "id": "8MHV0pFEzo1F",
        "outputId": "6276642e-319e-4982-b18a-a0ca47332399"
      },
      "outputs": [
        {
          "data": {
            "image/png": "[encoded data removed]",
            "text/plain": [
              "<Figure size 720x720 with 1 Axes>"
            ]
          },
          "metadata": {
            "needs_background": "light"
          },
          "output_type": "display_data"
        }
      ],
      "source": [
        "#Pregunta 3: DIstribucion de Ratings\n",
        "fig, ax=plt.subplots(figsize=(10,10))\n",
        "ax=sns.countplot(data=data,x='A6')\n",
        "ax.set_title('Distribucion de Ratings', fontsize=16)\n",
        "ax.set_xlabel('Ratings')\n",
        "for p in ax.patches:\n",
        "    ax.annotate(f'\\n{p.get_height()}', (p.get_x()+0.2, p.get_height()), ha='center', va='top', color='white', size=10)\n"
      ]
    },
    {
      "cell_type": "code",
      "execution_count": null,
      "metadata": {
        "id": "S1MZNAW-zo1G"
      },
      "outputs": [],
      "source": [
        "#Estas funciones sirven para poder analizar el sentimiento del texto de la review\n",
        "def clean_Text(text):# Esta limpia el texto eliminando texto de las regular expressions\n",
        "    return ' '.join(re.sub(\"(@[A-Za-z0-9]+)|([^0-9A-Za-z \\t])|(\\w+:\\/\\/\\S+)[-()\\[\\]\\\"“'”’#/@;:<>{}`+=~|.!?,]\", \" \",\n",
        "                           text).split())\n",
        "def sentiment_analyzer(text):#Esta utiliza TextBlob para calcular la polaridad del comentario\n",
        "    analysis=TextBlob(clean_Text(text))\n",
        "    return analysis.sentiment.polarity"
      ]
    },
    {
      "cell_type": "code",
      "execution_count": null,
      "metadata": {
        "id": "keBMCacvzo1H",
        "outputId": "672eb51b-d39e-41a6-9705-bec9f7deda50"
      },
      "outputs": [
        {
          "data": {
            "text/html": [
              "<div>\n",
              "<style scoped>\n",
              "    .dataframe tbody tr th:only-of-type {\n",
              "        vertical-align: middle;\n",
              "    }\n",
              "\n",
              "    .dataframe tbody tr th {\n",
              "        vertical-align: top;\n",
              "    }\n",
              "\n",
              "    .dataframe thead th {\n",
              "        text-align: right;\n",
              "    }\n",
              "</style>\n",
              "<table border=\"1\" class=\"dataframe\">\n",
              "  <thead>\n",
              "    <tr style=\"text-align: right;\">\n",
              "      <th></th>\n",
              "      <th>A2</th>\n",
              "      <th>A3</th>\n",
              "      <th>A4</th>\n",
              "      <th>A6</th>\n",
              "      <th>A7</th>\n",
              "      <th>A8</th>\n",
              "      <th>A9</th>\n",
              "      <th>day_o_week</th>\n",
              "      <th>Sentiment</th>\n",
              "    </tr>\n",
              "  </thead>\n",
              "  <tbody>\n",
              "    <tr>\n",
              "      <th>0</th>\n",
              "      <td>B001E4KFG0</td>\n",
              "      <td>A3SGXH7AUHU8GW</td>\n",
              "      <td>delmartian</td>\n",
              "      <td>5</td>\n",
              "      <td>2011-04-27</td>\n",
              "      <td>Good Quality Dog Food</td>\n",
              "      <td>I have bought several of the Vitality canned d...</td>\n",
              "      <td>Wednesday</td>\n",
              "      <td>0.450000</td>\n",
              "    </tr>\n",
              "    <tr>\n",
              "      <th>1</th>\n",
              "      <td>B00813GRG4</td>\n",
              "      <td>A1D87F6ZCVE5NK</td>\n",
              "      <td>dll pa</td>\n",
              "      <td>1</td>\n",
              "      <td>2012-09-07</td>\n",
              "      <td>Not as Advertised</td>\n",
              "      <td>Product arrived labeled as Jumbo Salted Peanut...</td>\n",
              "      <td>Friday</td>\n",
              "      <td>-0.033333</td>\n",
              "    </tr>\n",
              "    <tr>\n",
              "      <th>2</th>\n",
              "      <td>B000LQOCH0</td>\n",
              "      <td>ABXLMWJIXXAIN</td>\n",
              "      <td>Natalia Corres \"Natalia Corres\"</td>\n",
              "      <td>4</td>\n",
              "      <td>2008-08-18</td>\n",
              "      <td>\"Delight\" says it all</td>\n",
              "      <td>This is a confection that has been around a fe...</td>\n",
              "      <td>Monday</td>\n",
              "      <td>0.133571</td>\n",
              "    </tr>\n",
              "    <tr>\n",
              "      <th>3</th>\n",
              "      <td>B000UA0QIQ</td>\n",
              "      <td>A395BORC6FGVXV</td>\n",
              "      <td>Karl</td>\n",
              "      <td>2</td>\n",
              "      <td>2011-06-13</td>\n",
              "      <td>Cough Medicine</td>\n",
              "      <td>If you are looking for the secret ingredient i...</td>\n",
              "      <td>Monday</td>\n",
              "      <td>0.166667</td>\n",
              "    </tr>\n",
              "    <tr>\n",
              "      <th>4</th>\n",
              "      <td>B006K2ZZ7K</td>\n",
              "      <td>A1UQRSCLF8GW1T</td>\n",
              "      <td>Michael D. Bigham \"M. Wassir\"</td>\n",
              "      <td>5</td>\n",
              "      <td>2012-10-21</td>\n",
              "      <td>Great taffy</td>\n",
              "      <td>Great taffy at a great price.  There was a wid...</td>\n",
              "      <td>Sunday</td>\n",
              "      <td>0.483333</td>\n",
              "    </tr>\n",
              "  </tbody>\n",
              "</table>\n",
              "</div>"
            ],
            "text/plain": [
              "           A2              A3                               A4  A6         A7  \\\n",
              "0  B001E4KFG0  A3SGXH7AUHU8GW                       delmartian   5 2011-04-27   \n",
              "1  B00813GRG4  A1D87F6ZCVE5NK                           dll pa   1 2012-09-07   \n",
              "2  B000LQOCH0   ABXLMWJIXXAIN  Natalia Corres \"Natalia Corres\"   4 2008-08-18   \n",
              "3  B000UA0QIQ  A395BORC6FGVXV                             Karl   2 2011-06-13   \n",
              "4  B006K2ZZ7K  A1UQRSCLF8GW1T    Michael D. Bigham \"M. Wassir\"   5 2012-10-21   \n",
              "\n",
              "                      A8                                                 A9  \\\n",
              "0  Good Quality Dog Food  I have bought several of the Vitality canned d...   \n",
              "1      Not as Advertised  Product arrived labeled as Jumbo Salted Peanut...   \n",
              "2  \"Delight\" says it all  This is a confection that has been around a fe...   \n",
              "3         Cough Medicine  If you are looking for the secret ingredient i...   \n",
              "4            Great taffy  Great taffy at a great price.  There was a wid...   \n",
              "\n",
              "  day_o_week  Sentiment  \n",
              "0  Wednesday   0.450000  \n",
              "1     Friday  -0.033333  \n",
              "2     Monday   0.133571  \n",
              "3     Monday   0.166667  \n",
              "4     Sunday   0.483333  "
            ]
          },
          "execution_count": 11,
          "metadata": {},
          "output_type": "execute_result"
        }
      ],
      "source": [
        "#Pregunta 4: Sentimiento de cada comentario\n",
        "data['Sentiment']=pd.Series(sentiment_analyzer(opinion) for opinion in data.A9)\n",
        "data.head()"
      ]
    },
    {
      "cell_type": "code",
      "execution_count": null,
      "metadata": {
        "id": "26gGac77zo1H",
        "outputId": "efca90c2-084f-4311-9c96-7e9cddddac9a"
      },
      "outputs": [
        {
          "data": {
            "text/plain": [
              "count    568454.000000\n",
              "mean          0.235499\n",
              "std           0.216135\n",
              "min          -1.000000\n",
              "25%           0.105556\n",
              "50%           0.227083\n",
              "75%           0.361667\n",
              "max           1.000000\n",
              "Name: Sentiment, dtype: float64"
            ]
          },
          "execution_count": 42,
          "metadata": {},
          "output_type": "execute_result"
        }
      ],
      "source": [
        "data['Sentiment'].describe()"
      ]
    },
    {
      "cell_type": "code",
      "execution_count": null,
      "metadata": {
        "id": "e4m-OinIzo1I",
        "outputId": "a2e535c7-04f9-4b90-89c0-02e4f20deb68"
      },
      "outputs": [
        {
          "data": {
            "text/plain": [
              "Text(0.5, 0, 'Sentimiento')"
            ]
          },
          "execution_count": 43,
          "metadata": {},
          "output_type": "execute_result"
        },
        {
          "data": {
            "image/png": "[encoded data removed]",
            "text/plain": [
              "<Figure size 1080x1080 with 1 Axes>"
            ]
          },
          "metadata": {
            "needs_background": "light"
          },
          "output_type": "display_data"
        }
      ],
      "source": [
        "#fig = px.histogram(data, x=\"Sentiment\",title='Distribucion de comentarios', labels={'Sentiment':'Respuestas'})\n",
        "#fig.show()\n",
        "fig, ax=plt.subplots(figsize=(15,15))\n",
        "ax=sns.histplot(data=data, x='Sentiment',bins=30,shrink=0.8,stat='density')\n",
        "ax.set_title('Distribucion de Sentimiento', fontsize=16)\n",
        "ax.set_xlabel('Sentimiento')"
      ]
    },
    {
      "cell_type": "code",
      "execution_count": null,
      "metadata": {
        "id": "jlk5cZpIzo1I",
        "outputId": "007936ca-71e1-4354-c1bb-743e53e4629e"
      },
      "outputs": [
        {
          "name": "stdout",
          "output_type": "stream",
          "text": [
            "<class 'pandas.core.frame.DataFrame'>\n",
            "RangeIndex: 568454 entries, 0 to 568453\n",
            "Data columns (total 9 columns):\n",
            " #   Column      Non-Null Count   Dtype         \n",
            "---  ------      --------------   -----         \n",
            " 0   A2          568454 non-null  object        \n",
            " 1   A3          568454 non-null  object        \n",
            " 2   A4          568438 non-null  object        \n",
            " 3   A6          568454 non-null  int64         \n",
            " 4   A7          568454 non-null  datetime64[ns]\n",
            " 5   A8          568427 non-null  object        \n",
            " 6   A9          568454 non-null  category      \n",
            " 7   day_o_week  568454 non-null  object        \n",
            " 8   Sentiment   568454 non-null  float64       \n",
            "dtypes: category(1), datetime64[ns](1), float64(1), int64(1), object(5)\n",
            "memory usage: 47.9+ MB\n"
          ]
        }
      ],
      "source": [
        "data.info()"
      ]
    },
    {
      "cell_type": "code",
      "execution_count": null,
      "metadata": {
        "id": "uGo0miANzo1I"
      },
      "outputs": [],
      "source": [
        "#Pregunta 5: Producto con mas opiniones\n",
        "q_5=data.groupby(['A2']).agg({'A2':'count','A6':'mean','Sentiment':'mean'})"
      ]
    },
    {
      "cell_type": "code",
      "execution_count": null,
      "metadata": {
        "id": "p9ElRrVQzo1J",
        "outputId": "c7400a5e-6d10-4fe3-fa1c-d3d039206874"
      },
      "outputs": [
        {
          "data": {
            "text/html": [
              "<div>\n",
              "<style scoped>\n",
              "    .dataframe tbody tr th:only-of-type {\n",
              "        vertical-align: middle;\n",
              "    }\n",
              "\n",
              "    .dataframe tbody tr th {\n",
              "        vertical-align: top;\n",
              "    }\n",
              "\n",
              "    .dataframe thead th {\n",
              "        text-align: right;\n",
              "    }\n",
              "</style>\n",
              "<table border=\"1\" class=\"dataframe\">\n",
              "  <thead>\n",
              "    <tr style=\"text-align: right;\">\n",
              "      <th></th>\n",
              "      <th>A2</th>\n",
              "      <th>A6</th>\n",
              "      <th>Sentiment</th>\n",
              "    </tr>\n",
              "    <tr>\n",
              "      <th>A2</th>\n",
              "      <th></th>\n",
              "      <th></th>\n",
              "      <th></th>\n",
              "    </tr>\n",
              "  </thead>\n",
              "  <tbody>\n",
              "    <tr>\n",
              "      <th>B007JFMH8M</th>\n",
              "      <td>913</td>\n",
              "      <td>4.582694</td>\n",
              "      <td>0.354777</td>\n",
              "    </tr>\n",
              "    <tr>\n",
              "      <th>B0026RQTGE</th>\n",
              "      <td>632</td>\n",
              "      <td>4.588608</td>\n",
              "      <td>0.240500</td>\n",
              "    </tr>\n",
              "    <tr>\n",
              "      <th>B002QWHJOU</th>\n",
              "      <td>632</td>\n",
              "      <td>4.588608</td>\n",
              "      <td>0.240500</td>\n",
              "    </tr>\n",
              "    <tr>\n",
              "      <th>B002QWP89S</th>\n",
              "      <td>632</td>\n",
              "      <td>4.588608</td>\n",
              "      <td>0.240500</td>\n",
              "    </tr>\n",
              "    <tr>\n",
              "      <th>B002QWP8H0</th>\n",
              "      <td>632</td>\n",
              "      <td>4.588608</td>\n",
              "      <td>0.240500</td>\n",
              "    </tr>\n",
              "    <tr>\n",
              "      <th>B003B3OOPA</th>\n",
              "      <td>623</td>\n",
              "      <td>4.739968</td>\n",
              "      <td>0.300882</td>\n",
              "    </tr>\n",
              "    <tr>\n",
              "      <th>B001EO5Q64</th>\n",
              "      <td>567</td>\n",
              "      <td>4.746032</td>\n",
              "      <td>0.304385</td>\n",
              "    </tr>\n",
              "    <tr>\n",
              "      <th>B000VK8AVK</th>\n",
              "      <td>564</td>\n",
              "      <td>4.310284</td>\n",
              "      <td>0.259562</td>\n",
              "    </tr>\n",
              "    <tr>\n",
              "      <th>B0013NUGDE</th>\n",
              "      <td>564</td>\n",
              "      <td>4.310284</td>\n",
              "      <td>0.259562</td>\n",
              "    </tr>\n",
              "    <tr>\n",
              "      <th>B001RVFEP2</th>\n",
              "      <td>564</td>\n",
              "      <td>4.310284</td>\n",
              "      <td>0.259562</td>\n",
              "    </tr>\n",
              "  </tbody>\n",
              "</table>\n",
              "</div>"
            ],
            "text/plain": [
              "             A2        A6  Sentiment\n",
              "A2                                  \n",
              "B007JFMH8M  913  4.582694   0.354777\n",
              "B0026RQTGE  632  4.588608   0.240500\n",
              "B002QWHJOU  632  4.588608   0.240500\n",
              "B002QWP89S  632  4.588608   0.240500\n",
              "B002QWP8H0  632  4.588608   0.240500\n",
              "B003B3OOPA  623  4.739968   0.300882\n",
              "B001EO5Q64  567  4.746032   0.304385\n",
              "B000VK8AVK  564  4.310284   0.259562\n",
              "B0013NUGDE  564  4.310284   0.259562\n",
              "B001RVFEP2  564  4.310284   0.259562"
            ]
          },
          "execution_count": 15,
          "metadata": {},
          "output_type": "execute_result"
        }
      ],
      "source": [
        "q_5.nlargest(10,'A2')"
      ]
    },
    {
      "cell_type": "code",
      "execution_count": null,
      "metadata": {
        "id": "QRWTp-tmzo1J"
      },
      "outputs": [],
      "source": [
        "def get_most_used_word (df, word,column):#Funcion que toma el cumulo de opiniones en un string para analizarlo\n",
        "    opinion=df.loc[df[column]==word,['A9']]\n",
        "    l=list(opinion['A9'].tolist())\n",
        "    for text in l:\n",
        "        text=re.sub(\"(@[A-Za-z0-9]+)|([^0-9A-Za-z \\t])|(\\w+:\\/\\/\\S+)[-()\\[\\]\\\"“'”’#/@;:<><br /><br />{}`+=~|.!?,]\", \" \",text)\n",
        "    r=' '.join(l)\n",
        "    r=r.replace('<br /><br />','')\n",
        "    r=r.replace('</a>','')\n",
        "    r=r.replace('\\\\','')\n",
        "    r=r.replace('--',' ')\n",
        "    return rAdministración\n",
        "\n",
        "\n",
        "    \n",
        "    "
      ]
    },
    {
      "cell_type": "code",
      "execution_count": null,
      "metadata": {
        "id": "3o-ElCGYzo1K",
        "outputId": "9238ef30-968b-42c4-cf9c-4b72c17ab85e"
      },
      "outputs": [
        {
          "name": "stderr",
          "output_type": "stream",
          "text": [
            "[nltk_data] Downloading package punkt to\n",
            "[nltk_data]     /home/andrewgregory/nltk_data...\n",
            "[nltk_data]   Package punkt is already up-to-date!\n",
            "[nltk_data] Downloading package stopwords to\n",
            "[nltk_data]     /home/andrewgregory/nltk_data...\n",
            "[nltk_data]   Package stopwords is already up-to-date!\n"
          ]
        },
        {
          "data": {
            "text/plain": [
              "[('cookies', 835),\n",
              " ('cookie', 824),\n",
              " ('soft', 693),\n",
              " ('oatmeal', 479),\n",
              " ('good', 344),\n",
              " ('quaker', 319),\n",
              " ('like', 295),\n",
              " ('love', 288),\n",
              " ('taste', 288),\n",
              " ('great', 288),\n",
              " ('influenster', 239),\n",
              " ('one', 234),\n",
              " ('loved', 228),\n",
              " ('baked', 225),\n",
              " ('raisins', 197),\n",
              " ('delicious', 190),\n",
              " ('kids', 189),\n",
              " ('try', 187),\n",
              " ('received', 186),\n",
              " ('really', 185),\n",
              " ('chewy', 184),\n",
              " ('raisin', 175),\n",
              " ('would', 170),\n",
              " ('snack', 165),\n",
              " ('box', 162),\n",
              " ('buy', 145),\n",
              " ('go', 133),\n",
              " ('mom', 128),\n",
              " ('definitely', 125),\n",
              " ('sample', 119)]"
            ]
          },
          "execution_count": 17,
          "metadata": {},
          "output_type": "execute_result"
        }
      ],
      "source": [
        "from nltk import FreqDist\n",
        "nltk.download('punkt')\n",
        "opinion=get_most_used_word(data,'B007JFMH8M','A2')#Usamos el producto con mas reviews\n",
        "opinion=opinion.lower()\n",
        "wordsClean = re.sub(r\"[-()\\[\\]\\\"“'”’#/@;:<>{}`+=~|.!?,]\", \"\", opinion)\n",
        "words=nltk.word_tokenize(wordsClean)#Tokenizamos\n",
        "#Quitaremos las stopwords\n",
        "nltk.download('stopwords')\n",
        "from nltk.corpus import stopwords\n",
        "#remove stop words\n",
        "stop = stopwords.words('english')\n",
        "word_tokens = [word for word in words if word.lower() not in stop]\n",
        "freq=FreqDist(word_tokens)\n",
        "freq.most_common(30)\n"
      ]
    },
    {
      "cell_type": "code",
      "execution_count": null,
      "metadata": {
        "id": "UdqimMSizo1K",
        "outputId": "69e1ded6-300f-402d-b02e-6bc6e611da8f"
      },
      "outputs": [
        {
          "data": {
            "text/html": [
              "<div>\n",
              "<style scoped>\n",
              "    .dataframe tbody tr th:only-of-type {\n",
              "        vertical-align: middle;\n",
              "    }\n",
              "\n",
              "    .dataframe tbody tr th {\n",
              "        vertical-align: top;\n",
              "    }\n",
              "\n",
              "    .dataframe thead th {\n",
              "        text-align: right;\n",
              "    }\n",
              "</style>\n",
              "<table border=\"1\" class=\"dataframe\">\n",
              "  <thead>\n",
              "    <tr style=\"text-align: right;\">\n",
              "      <th></th>\n",
              "      <th>A3</th>\n",
              "      <th>A6</th>\n",
              "      <th>Sentiment</th>\n",
              "    </tr>\n",
              "    <tr>\n",
              "      <th>A3</th>\n",
              "      <th></th>\n",
              "      <th></th>\n",
              "      <th></th>\n",
              "    </tr>\n",
              "  </thead>\n",
              "  <tbody>\n",
              "    <tr>\n",
              "      <th>A3OXHLG6DIBRW8</th>\n",
              "      <td>448</td>\n",
              "      <td>4.535714</td>\n",
              "      <td>0.252111</td>\n",
              "    </tr>\n",
              "    <tr>\n",
              "      <th>A1YUL9PCJR3JTY</th>\n",
              "      <td>421</td>\n",
              "      <td>4.494062</td>\n",
              "      <td>0.190014</td>\n",
              "    </tr>\n",
              "    <tr>\n",
              "      <th>AY12DBB0U420B</th>\n",
              "      <td>389</td>\n",
              "      <td>4.647815</td>\n",
              "      <td>0.226588</td>\n",
              "    </tr>\n",
              "    <tr>\n",
              "      <th>A281NPSIMI1C2R</th>\n",
              "      <td>365</td>\n",
              "      <td>4.841096</td>\n",
              "      <td>0.242492</td>\n",
              "    </tr>\n",
              "    <tr>\n",
              "      <th>A1Z54EM24Y40LL</th>\n",
              "      <td>256</td>\n",
              "      <td>4.453125</td>\n",
              "      <td>0.229496</td>\n",
              "    </tr>\n",
              "    <tr>\n",
              "      <th>A1TMAVN4CEM8U8</th>\n",
              "      <td>204</td>\n",
              "      <td>4.833333</td>\n",
              "      <td>0.145273</td>\n",
              "    </tr>\n",
              "    <tr>\n",
              "      <th>A2MUGFV2TDQ47K</th>\n",
              "      <td>201</td>\n",
              "      <td>3.751244</td>\n",
              "      <td>0.167792</td>\n",
              "    </tr>\n",
              "    <tr>\n",
              "      <th>A3TVZM3ZIXG8YW</th>\n",
              "      <td>199</td>\n",
              "      <td>1.000000</td>\n",
              "      <td>0.070179</td>\n",
              "    </tr>\n",
              "    <tr>\n",
              "      <th>A3PJZ8TU8FDQ1K</th>\n",
              "      <td>178</td>\n",
              "      <td>4.601124</td>\n",
              "      <td>0.195831</td>\n",
              "    </tr>\n",
              "    <tr>\n",
              "      <th>AQQLWCMRNDFGI</th>\n",
              "      <td>176</td>\n",
              "      <td>3.954545</td>\n",
              "      <td>0.225729</td>\n",
              "    </tr>\n",
              "  </tbody>\n",
              "</table>\n",
              "</div>"
            ],
            "text/plain": [
              "                 A3        A6  Sentiment\n",
              "A3                                      \n",
              "A3OXHLG6DIBRW8  448  4.535714   0.252111\n",
              "A1YUL9PCJR3JTY  421  4.494062   0.190014\n",
              "AY12DBB0U420B   389  4.647815   0.226588\n",
              "A281NPSIMI1C2R  365  4.841096   0.242492\n",
              "A1Z54EM24Y40LL  256  4.453125   0.229496\n",
              "A1TMAVN4CEM8U8  204  4.833333   0.145273\n",
              "A2MUGFV2TDQ47K  201  3.751244   0.167792\n",
              "A3TVZM3ZIXG8YW  199  1.000000   0.070179\n",
              "A3PJZ8TU8FDQ1K  178  4.601124   0.195831\n",
              "AQQLWCMRNDFGI   176  3.954545   0.225729"
            ]
          },
          "execution_count": 18,
          "metadata": {},
          "output_type": "execute_result"
        }
      ],
      "source": [
        "#Pregunta 7: Usuario que mas comenta\n",
        "#Usamos la misma metodologia para agrupar como en la pregunta 5 \n",
        "q_7=data.groupby(['A3']).agg({'A3':'count','A6':'mean','Sentiment':'mean'})\n",
        "q_7.nlargest(10,'A3')"
      ]
    },
    {
      "cell_type": "code",
      "execution_count": null,
      "metadata": {
        "id": "ovpuckN6zo1K",
        "outputId": "756e7968-2e3e-4b55-f3f1-f3a826880cf2"
      },
      "outputs": [
        {
          "data": {
            "text/html": [
              "<div>\n",
              "<style scoped>\n",
              "    .dataframe tbody tr th:only-of-type {\n",
              "        vertical-align: middle;\n",
              "    }\n",
              "\n",
              "    .dataframe tbody tr th {\n",
              "        vertical-align: top;\n",
              "    }\n",
              "\n",
              "    .dataframe thead th {\n",
              "        text-align: right;\n",
              "    }\n",
              "</style>\n",
              "<table border=\"1\" class=\"dataframe\">\n",
              "  <thead>\n",
              "    <tr style=\"text-align: right;\">\n",
              "      <th></th>\n",
              "      <th>A2</th>\n",
              "      <th>A3</th>\n",
              "      <th>A4</th>\n",
              "      <th>A6</th>\n",
              "      <th>A7</th>\n",
              "      <th>A8</th>\n",
              "      <th>A9</th>\n",
              "      <th>day_o_week</th>\n",
              "      <th>Sentiment</th>\n",
              "    </tr>\n",
              "  </thead>\n",
              "  <tbody>\n",
              "    <tr>\n",
              "      <th>369</th>\n",
              "      <td>B002O3VHXU</td>\n",
              "      <td>A3OXHLG6DIBRW8</td>\n",
              "      <td>C. F. Hill \"CFH\"</td>\n",
              "      <td>5</td>\n",
              "      <td>2010-08-19</td>\n",
              "      <td>Very Smooth Coffee - Highly Recommended</td>\n",
              "      <td>Green Mountain \"Nantucket Blend\" K-Cups make a...</td>\n",
              "      <td>Thursday</td>\n",
              "      <td>0.243286</td>\n",
              "    </tr>\n",
              "    <tr>\n",
              "      <th>813</th>\n",
              "      <td>B004ET7MG8</td>\n",
              "      <td>A3OXHLG6DIBRW8</td>\n",
              "      <td>C. F. Hill \"CFH\"</td>\n",
              "      <td>2</td>\n",
              "      <td>2010-04-26</td>\n",
              "      <td>Odd Fake Flavor - Not Recommended</td>\n",
              "      <td>Trident \"Strawberry Twist\" sugarless gum is ve...</td>\n",
              "      <td>Monday</td>\n",
              "      <td>-0.084573</td>\n",
              "    </tr>\n",
              "    <tr>\n",
              "      <th>3306</th>\n",
              "      <td>B005K4Q1VI</td>\n",
              "      <td>A3OXHLG6DIBRW8</td>\n",
              "      <td>C. F. Hill \"CFH\"</td>\n",
              "      <td>5</td>\n",
              "      <td>2011-11-16</td>\n",
              "      <td>Really Good Hot Cocoa - Highly Recommended</td>\n",
              "      <td>These Grove Square Hot Cocoa flavors are by fa...</td>\n",
              "      <td>Wednesday</td>\n",
              "      <td>0.382307</td>\n",
              "    </tr>\n",
              "    <tr>\n",
              "      <th>3416</th>\n",
              "      <td>B005K4Q1VI</td>\n",
              "      <td>A3OXHLG6DIBRW8</td>\n",
              "      <td>C. F. Hill \"CFH\"</td>\n",
              "      <td>5</td>\n",
              "      <td>2011-11-16</td>\n",
              "      <td>Really Good Hot Cocoa - Highly Recommended</td>\n",
              "      <td>These Grove Square Hot Cocoa flavors are by fa...</td>\n",
              "      <td>Wednesday</td>\n",
              "      <td>0.353717</td>\n",
              "    </tr>\n",
              "    <tr>\n",
              "      <th>3926</th>\n",
              "      <td>B000VSDFRG</td>\n",
              "      <td>A3OXHLG6DIBRW8</td>\n",
              "      <td>C. F. Hill \"CFH\"</td>\n",
              "      <td>5</td>\n",
              "      <td>2009-03-16</td>\n",
              "      <td>Great Diabetic Friendly Candy - Highly Recomme...</td>\n",
              "      <td>Hershey \"Sugar Free Caramel Filled Chocolates\"...</td>\n",
              "      <td>Monday</td>\n",
              "      <td>0.250938</td>\n",
              "    </tr>\n",
              "    <tr>\n",
              "      <th>...</th>\n",
              "      <td>...</td>\n",
              "      <td>...</td>\n",
              "      <td>...</td>\n",
              "      <td>...</td>\n",
              "      <td>...</td>\n",
              "      <td>...</td>\n",
              "      <td>...</td>\n",
              "      <td>...</td>\n",
              "      <td>...</td>\n",
              "    </tr>\n",
              "    <tr>\n",
              "      <th>562279</th>\n",
              "      <td>B004HOSGWE</td>\n",
              "      <td>A3OXHLG6DIBRW8</td>\n",
              "      <td>C. F. Hill \"CFH\"</td>\n",
              "      <td>5</td>\n",
              "      <td>2012-02-19</td>\n",
              "      <td>Great Spicy Snack - Highly Recommended</td>\n",
              "      <td>The Blue Diamond Jalapeno Smokehouse Almonds a...</td>\n",
              "      <td>Sunday</td>\n",
              "      <td>0.295000</td>\n",
              "    </tr>\n",
              "    <tr>\n",
              "      <th>563973</th>\n",
              "      <td>B001XSMANI</td>\n",
              "      <td>A3OXHLG6DIBRW8</td>\n",
              "      <td>C. F. Hill \"CFH\"</td>\n",
              "      <td>5</td>\n",
              "      <td>2010-07-18</td>\n",
              "      <td>Great Tasting and a Great Value - Highly Recom...</td>\n",
              "      <td>Kirkland Jelly Beans are a great value and all...</td>\n",
              "      <td>Sunday</td>\n",
              "      <td>0.225000</td>\n",
              "    </tr>\n",
              "    <tr>\n",
              "      <th>564414</th>\n",
              "      <td>B001D3LUP2</td>\n",
              "      <td>A3OXHLG6DIBRW8</td>\n",
              "      <td>C. F. Hill \"CFH\"</td>\n",
              "      <td>3</td>\n",
              "      <td>2009-05-25</td>\n",
              "      <td>Good Tasting Sugarfree Gum - Flavor Tapers Off...</td>\n",
              "      <td>Wrigley's  Elixir Gum is good tasting, but onl...</td>\n",
              "      <td>Monday</td>\n",
              "      <td>0.208333</td>\n",
              "    </tr>\n",
              "    <tr>\n",
              "      <th>567686</th>\n",
              "      <td>B005K4Q68Q</td>\n",
              "      <td>A3OXHLG6DIBRW8</td>\n",
              "      <td>C. F. Hill \"CFH\"</td>\n",
              "      <td>5</td>\n",
              "      <td>2011-11-16</td>\n",
              "      <td>Really Good Hot Cocoa - Highly Recommended</td>\n",
              "      <td>These Grove Square Hot Cocoa flavors are by fa...</td>\n",
              "      <td>Wednesday</td>\n",
              "      <td>0.382307</td>\n",
              "    </tr>\n",
              "    <tr>\n",
              "      <th>567796</th>\n",
              "      <td>B005K4Q68Q</td>\n",
              "      <td>A3OXHLG6DIBRW8</td>\n",
              "      <td>C. F. Hill \"CFH\"</td>\n",
              "      <td>5</td>\n",
              "      <td>2011-11-16</td>\n",
              "      <td>Really Good Hot Cocoa - Highly Recommended</td>\n",
              "      <td>These Grove Square Hot Cocoa flavors are by fa...</td>\n",
              "      <td>Wednesday</td>\n",
              "      <td>0.353717</td>\n",
              "    </tr>\n",
              "  </tbody>\n",
              "</table>\n",
              "<p>448 rows × 9 columns</p>\n",
              "</div>"
            ],
            "text/plain": [
              "                A2              A3                A4  A6         A7  \\\n",
              "369     B002O3VHXU  A3OXHLG6DIBRW8  C. F. Hill \"CFH\"   5 2010-08-19   \n",
              "813     B004ET7MG8  A3OXHLG6DIBRW8  C. F. Hill \"CFH\"   2 2010-04-26   \n",
              "3306    B005K4Q1VI  A3OXHLG6DIBRW8  C. F. Hill \"CFH\"   5 2011-11-16   \n",
              "3416    B005K4Q1VI  A3OXHLG6DIBRW8  C. F. Hill \"CFH\"   5 2011-11-16   \n",
              "3926    B000VSDFRG  A3OXHLG6DIBRW8  C. F. Hill \"CFH\"   5 2009-03-16   \n",
              "...            ...             ...               ...  ..        ...   \n",
              "562279  B004HOSGWE  A3OXHLG6DIBRW8  C. F. Hill \"CFH\"   5 2012-02-19   \n",
              "563973  B001XSMANI  A3OXHLG6DIBRW8  C. F. Hill \"CFH\"   5 2010-07-18   \n",
              "564414  B001D3LUP2  A3OXHLG6DIBRW8  C. F. Hill \"CFH\"   3 2009-05-25   \n",
              "567686  B005K4Q68Q  A3OXHLG6DIBRW8  C. F. Hill \"CFH\"   5 2011-11-16   \n",
              "567796  B005K4Q68Q  A3OXHLG6DIBRW8  C. F. Hill \"CFH\"   5 2011-11-16   \n",
              "\n",
              "                                                       A8  \\\n",
              "369               Very Smooth Coffee - Highly Recommended   \n",
              "813                     Odd Fake Flavor - Not Recommended   \n",
              "3306           Really Good Hot Cocoa - Highly Recommended   \n",
              "3416           Really Good Hot Cocoa - Highly Recommended   \n",
              "3926    Great Diabetic Friendly Candy - Highly Recomme...   \n",
              "...                                                   ...   \n",
              "562279             Great Spicy Snack - Highly Recommended   \n",
              "563973  Great Tasting and a Great Value - Highly Recom...   \n",
              "564414  Good Tasting Sugarfree Gum - Flavor Tapers Off...   \n",
              "567686         Really Good Hot Cocoa - Highly Recommended   \n",
              "567796         Really Good Hot Cocoa - Highly Recommended   \n",
              "\n",
              "                                                       A9 day_o_week  \\\n",
              "369     Green Mountain \"Nantucket Blend\" K-Cups make a...   Thursday   \n",
              "813     Trident \"Strawberry Twist\" sugarless gum is ve...     Monday   \n",
              "3306    These Grove Square Hot Cocoa flavors are by fa...  Wednesday   \n",
              "3416    These Grove Square Hot Cocoa flavors are by fa...  Wednesday   \n",
              "3926    Hershey \"Sugar Free Caramel Filled Chocolates\"...     Monday   \n",
              "...                                                   ...        ...   \n",
              "562279  The Blue Diamond Jalapeno Smokehouse Almonds a...     Sunday   \n",
              "563973  Kirkland Jelly Beans are a great value and all...     Sunday   \n",
              "564414  Wrigley's  Elixir Gum is good tasting, but onl...     Monday   \n",
              "567686  These Grove Square Hot Cocoa flavors are by fa...  Wednesday   \n",
              "567796  These Grove Square Hot Cocoa flavors are by fa...  Wednesday   \n",
              "\n",
              "        Sentiment  \n",
              "369      0.243286  \n",
              "813     -0.084573  \n",
              "3306     0.382307  \n",
              "3416     0.353717  \n",
              "3926     0.250938  \n",
              "...           ...  \n",
              "562279   0.295000  \n",
              "563973   0.225000  \n",
              "564414   0.208333  \n",
              "567686   0.382307  \n",
              "567796   0.353717  \n",
              "\n",
              "[448 rows x 9 columns]"
            ]
          },
          "execution_count": 19,
          "metadata": {},
          "output_type": "execute_result"
        }
      ],
      "source": [
        "data.loc[data['A3']=='A3OXHLG6DIBRW8']"
      ]
    },
    {
      "cell_type": "code",
      "execution_count": null,
      "metadata": {
        "id": "NklPshHCzo1L",
        "outputId": "9e63ca1e-818b-4aab-ba66-141a185f7223"
      },
      "outputs": [
        {
          "name": "stderr",
          "output_type": "stream",
          "text": [
            "[nltk_data] Downloading package stopwords to\n",
            "[nltk_data]     /home/andrewgregory/nltk_data...\n",
            "[nltk_data]   Package stopwords is already up-to-date!\n"
          ]
        },
        {
          "data": {
            "text/plain": [
              "[('good', 529),\n",
              " ('flavor', 329),\n",
              " ('tasting', 304),\n",
              " ('great', 227),\n",
              " ('like', 223),\n",
              " ('sugar', 205),\n",
              " ('recommendedcfh', 181),\n",
              " ('coffee', 172),\n",
              " ('since', 164),\n",
              " ('pack', 155),\n",
              " ('also', 155),\n",
              " ('cup', 149),\n",
              " ('diabetic', 148),\n",
              " ('carbs', 141),\n",
              " ('really', 133),\n",
              " ('one', 128),\n",
              " ('chocolate', 125),\n",
              " ('jelly', 118),\n",
              " ('2', 116),\n",
              " ('wife', 115),\n",
              " ('hot', 115),\n",
              " ('snack', 115),\n",
              " ('taste', 114),\n",
              " ('recommended', 112),\n",
              " ('stars', 111),\n",
              " ('free', 109),\n",
              " ('type', 100),\n",
              " ('pasta', 99),\n",
              " ('flavors', 97),\n",
              " ('kcups', 94)]"
            ]
          },
          "execution_count": 20,
          "metadata": {},
          "output_type": "execute_result"
        }
      ],
      "source": [
        "opinion=get_most_used_word(data,'A3OXHLG6DIBRW8','A3')#Usamos el producto con mas reviews\n",
        "opinion=opinion.lower()\n",
        "wordsClean = re.sub(r\"[-()\\[\\]\\\"“'”’#/@;:*<>{}`+=~|.!?,]\", \"\", opinion)\n",
        "words=nltk.word_tokenize(wordsClean)#Tokenizamos\n",
        "#Quitaremos las stopwords\n",
        "nltk.download('stopwords')\n",
        "word_tokens = [word for word in words if word.lower() not in stop]\n",
        "freq=FreqDist(word_tokens)\n",
        "freq.most_common(30)\n"
      ]
    },
    {
      "cell_type": "code",
      "execution_count": null,
      "metadata": {
        "id": "WX6tzfK9zo1L"
      },
      "outputs": [],
      "source": [
        "#Pregunta 8-10\n",
        "#Para clasificar el texto vamos a tomar el texto de la review con rating en 1 y en 5\n",
        "rtg_1=data.loc[(data['A6']==1)]\n",
        "rtg_5=data.loc[(data['A6']==5)]"
      ]
    },
    {
      "cell_type": "code",
      "execution_count": null,
      "metadata": {
        "id": "pVy0U4P4zo1L"
      },
      "outputs": [],
      "source": [
        "#Funciones a mappear para hacer stemming y lemmatizacion vamos a utilizar el Word Net Lemmatizer\n",
        "#Crearemos otra funcion parecida al preprocessing que haciamos con anterioridad\n",
        "#ELiminamos las stopwords con 2 filtros: que no esten en la lista y que la longitud de la palabra sea mayor a 3\n",
        "stemmer=SnowballStemmer(\"english\")\n",
        "def stem_lem(txt):\n",
        "    return stemmer.stem(WordNetLemmatizer().lemmatize(txt,pos='v'))\n",
        "def preproc(txt):\n",
        "    r=[]\n",
        "    for word in gensim.utils.simple_preprocess(txt):\n",
        "        if word not in gensim.parsing.preprocessing.STOPWORDS and len(word) > 3:\n",
        "            r.append(stem_lem(word))\n",
        "    return r\n"
      ]
    },
    {
      "cell_type": "code",
      "execution_count": null,
      "metadata": {
        "id": "_hoUJvnOzo1L"
      },
      "outputs": [],
      "source": [
        "def topic_classifier(df):\n",
        "    process_text=pd.Series(preproc(a) for a in df['A9'])#process_text=df['A9'].map(preproc)\n",
        "    dictionary = gensim.corpora.Dictionary(process_text)\n",
        "    #Quitamos los outliers\n",
        "    dictionary.filter_extremes(no_below=15, no_above=0.5, keep_n=100000)\n",
        "    #Creamos una bag of words para poder utilizar el LDA \n",
        "    bow = [dictionary.doc2bow(doc) for doc in process_text]\n",
        "    lda_model = gensim.models.LdaMulticore(bow, num_topics=10, id2word=dictionary, passes=2, workers=2)\n",
        "    #Escribimos los topicos en los que lo clasifican \n",
        "    for idx, topic in lda_model.print_topics(-1):\n",
        "        print('Topic: {} \\nWords: {}'.format(idx, topic))\n",
        "    "
      ]
    },
    {
      "cell_type": "code",
      "execution_count": null,
      "metadata": {
        "scrolled": false,
        "id": "sPcn4QhKzo1M",
        "outputId": "1cd14f41-012e-428a-fba6-54323afde072"
      },
      "outputs": [
        {
          "name": "stdout",
          "output_type": "stream",
          "text": [
            "Topic: 0 \n",
            "Words: 0.020*\"like\" + 0.018*\"flavor\" + 0.018*\"chip\" + 0.016*\"tast\" + 0.014*\"great\" + 0.013*\"good\" + 0.013*\"sauc\" + 0.012*\"love\" + 0.011*\"cook\" + 0.009*\"gluten\"\n",
            "Topic: 1 \n",
            "Words: 0.096*\"coffe\" + 0.031*\"flavor\" + 0.023*\"tast\" + 0.022*\"like\" + 0.015*\"good\" + 0.014*\"great\" + 0.014*\"love\" + 0.014*\"strong\" + 0.013*\"cup\" + 0.013*\"tri\"\n",
            "Topic: 2 \n",
            "Words: 0.021*\"salt\" + 0.010*\"fresh\" + 0.009*\"tast\" + 0.009*\"like\" + 0.008*\"product\" + 0.008*\"packag\" + 0.007*\"pack\" + 0.007*\"come\" + 0.006*\"color\" + 0.006*\"look\"\n",
            "Topic: 3 \n",
            "Words: 0.017*\"drink\" + 0.016*\"water\" + 0.014*\"tast\" + 0.014*\"work\" + 0.013*\"like\" + 0.013*\"help\" + 0.012*\"popcorn\" + 0.011*\"coconut\" + 0.011*\"good\" + 0.010*\"energi\"\n",
            "Topic: 4 \n",
            "Words: 0.052*\"treat\" + 0.042*\"love\" + 0.018*\"dog\" + 0.014*\"like\" + 0.014*\"chew\" + 0.012*\"great\" + 0.011*\"littl\" + 0.010*\"time\" + 0.010*\"size\" + 0.009*\"small\"\n",
            "Topic: 5 \n",
            "Words: 0.035*\"order\" + 0.026*\"product\" + 0.018*\"time\" + 0.017*\"great\" + 0.016*\"packag\" + 0.014*\"love\" + 0.013*\"arriv\" + 0.013*\"good\" + 0.012*\"purchas\" + 0.011*\"gift\"\n",
            "Topic: 6 \n",
            "Words: 0.047*\"amazon\" + 0.040*\"store\" + 0.035*\"price\" + 0.024*\"product\" + 0.023*\"great\" + 0.021*\"local\" + 0.018*\"buy\" + 0.017*\"love\" + 0.016*\"order\" + 0.015*\"good\"\n",
            "Topic: 7 \n",
            "Words: 0.029*\"chocol\" + 0.026*\"tast\" + 0.022*\"like\" + 0.018*\"cooki\" + 0.017*\"good\" + 0.016*\"love\" + 0.016*\"great\" + 0.016*\"flavor\" + 0.015*\"snack\" + 0.014*\"sweet\"\n",
            "Topic: 8 \n",
            "Words: 0.075*\"food\" + 0.015*\"cat\" + 0.015*\"love\" + 0.013*\"like\" + 0.012*\"product\" + 0.009*\"year\" + 0.008*\"brand\" + 0.008*\"dog\" + 0.008*\"diet\" + 0.007*\"ingredi\"\n",
            "Topic: 9 \n",
            "Words: 0.031*\"flavor\" + 0.029*\"tast\" + 0.024*\"drink\" + 0.023*\"like\" + 0.021*\"sugar\" + 0.012*\"sweet\" + 0.012*\"water\" + 0.011*\"good\" + 0.011*\"green\" + 0.011*\"love\"\n"
          ]
        }
      ],
      "source": [
        "#Pregunta 9: Categorias con rating de 5 \n",
        "#Para la clasificacion para el rating en 5\n",
        "topic_classifier(rtg_5.sample(n=100000))"
      ]
    },
    {
      "cell_type": "code",
      "execution_count": null,
      "metadata": {
        "scrolled": false,
        "id": "8M-hn7G3zo1M",
        "outputId": "75e6150a-2b76-43dc-bc36-4d59a0e50f01"
      },
      "outputs": [
        {
          "name": "stdout",
          "output_type": "stream",
          "text": [
            "Topic: 0 \n",
            "Words: 0.030*\"food\" + 0.013*\"babi\" + 0.012*\"time\" + 0.010*\"think\" + 0.009*\"month\" + 0.009*\"like\" + 0.009*\"go\" + 0.009*\"start\" + 0.008*\"product\" + 0.008*\"give\"\n",
            "Topic: 1 \n",
            "Words: 0.042*\"product\" + 0.026*\"ingredi\" + 0.018*\"sugar\" + 0.013*\"contain\" + 0.012*\"natur\" + 0.011*\"organ\" + 0.010*\"list\" + 0.009*\"food\" + 0.009*\"label\" + 0.008*\"corn\"\n",
            "Topic: 2 \n",
            "Words: 0.065*\"food\" + 0.027*\"eat\" + 0.015*\"thing\" + 0.015*\"popcorn\" + 0.015*\"diet\" + 0.015*\"cat\" + 0.013*\"scienc\" + 0.013*\"ingredi\" + 0.012*\"littl\" + 0.011*\"think\"\n",
            "Topic: 3 \n",
            "Words: 0.039*\"tast\" + 0.030*\"like\" + 0.019*\"flavor\" + 0.015*\"cooki\" + 0.014*\"product\" + 0.012*\"good\" + 0.011*\"tri\" + 0.010*\"buy\" + 0.009*\"think\" + 0.008*\"chocol\"\n",
            "Topic: 4 \n",
            "Words: 0.013*\"work\" + 0.013*\"review\" + 0.011*\"product\" + 0.010*\"milk\" + 0.010*\"buy\" + 0.010*\"tri\" + 0.009*\"grain\" + 0.008*\"think\" + 0.008*\"like\" + 0.008*\"green\"\n",
            "Topic: 5 \n",
            "Words: 0.024*\"treat\" + 0.019*\"product\" + 0.018*\"dog\" + 0.017*\"order\" + 0.016*\"food\" + 0.013*\"can\" + 0.012*\"amazon\" + 0.011*\"time\" + 0.010*\"compani\" + 0.010*\"chicken\"\n",
            "Topic: 6 \n",
            "Words: 0.031*\"order\" + 0.027*\"amazon\" + 0.026*\"product\" + 0.017*\"item\" + 0.015*\"receiv\" + 0.013*\"packag\" + 0.012*\"chip\" + 0.012*\"like\" + 0.012*\"purchas\" + 0.011*\"return\"\n",
            "Topic: 7 \n",
            "Words: 0.062*\"coffe\" + 0.021*\"tast\" + 0.017*\"price\" + 0.015*\"cup\" + 0.015*\"like\" + 0.015*\"product\" + 0.014*\"flavor\" + 0.013*\"amazon\" + 0.009*\"pack\" + 0.009*\"buy\"\n",
            "Topic: 8 \n",
            "Words: 0.038*\"tast\" + 0.032*\"chocol\" + 0.032*\"like\" + 0.026*\"flavor\" + 0.016*\"drink\" + 0.012*\"product\" + 0.011*\"cocoa\" + 0.009*\"tri\" + 0.008*\"look\" + 0.008*\"love\"\n",
            "Topic: 9 \n",
            "Words: 0.049*\"tast\" + 0.040*\"like\" + 0.017*\"flavor\" + 0.015*\"tri\" + 0.014*\"smell\" + 0.011*\"good\" + 0.010*\"love\" + 0.009*\"food\" + 0.009*\"think\" + 0.009*\"stuff\"\n"
          ]
        }
      ],
      "source": [
        "#Pregunta 10 Categorias de comentarios con rating de 1\n",
        "#Haremos la clasificacion para el rating en 1\n",
        "topic_classifier(rtg_1)"
      ]
    }
  ],
  "metadata": {
    "kernelspec": {
      "display_name": "Python 3",
      "language": "python",
      "name": "python3"
    },
    "language_info": {
      "codemirror_mode": {
        "name": "ipython",
        "version": 3
      },
      "file_extension": ".py",
      "mimetype": "text/x-python",
      "name": "python",
      "nbconvert_exporter": "python",
      "pygments_lexer": "ipython3",
      "version": "3.8.5"
    },
    "colab": {
      "name": "Big Data Project.ipynb",
      "provenance": [],
      "collapsed_sections": []
    }
  },
  "nbformat": 4,
  "nbformat_minor": 0
}